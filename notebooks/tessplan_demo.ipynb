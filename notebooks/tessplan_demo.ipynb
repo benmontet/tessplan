{
 "cells": [
  {
   "cell_type": "code",
   "execution_count": 1,
   "metadata": {},
   "outputs": [],
   "source": [
    "import tessplan"
   ]
  },
  {
   "cell_type": "markdown",
   "metadata": {},
   "source": [
    "I want to observe a planet! I know its ephemeris, and I want to figure out all of the transits I might be able to see from an given observatory over a 30-day span starting on 11 July. I'm okay observing down to fairly high airmass, so I'm going to set an elevation limit of 18 degrees at either end of the transit as acceptable.\n",
    "\n",
    "Note: Please don't try to observe this planet, I made up these parameters."
   ]
  },
  {
   "cell_type": "code",
   "execution_count": 2,
   "metadata": {},
   "outputs": [],
   "source": [
    "pl = tessplan.Planet(t0=1311.34, period=4.685, perr = 0.001, duration=2.15, ra=296.353, dec=-42.323, \n",
    "                          startdate='2019-07-11', run_length=30, el_limit=18)"
   ]
  },
  {
   "cell_type": "markdown",
   "metadata": {},
   "source": [
    "We've now created an object called `pl` that contains the infromation we care about for observing this system. I did not pass through an observatory or timezone, so these are set to the default settings inside of tessplan:"
   ]
  },
  {
   "cell_type": "code",
   "execution_count": 3,
   "metadata": {},
   "outputs": [
    {
     "data": {
      "text/plain": [
       "('Siding Spring Observatory', 'Australia/NSW')"
      ]
     },
     "execution_count": 3,
     "metadata": {},
     "output_type": "execute_result"
    }
   ],
   "source": [
    "pl.observatory, pl.timezone"
   ]
  },
  {
   "cell_type": "markdown",
   "metadata": {},
   "source": [
    "We can see all of the transits that will occur in this window, regardless of observability, by calling ``all_transit_times``. This is an AstroPy time object, so we can select just the ``value`` inside of each."
   ]
  },
  {
   "cell_type": "code",
   "execution_count": 4,
   "metadata": {},
   "outputs": [
    {
     "data": {
      "text/plain": [
       "array(['2019-07-12 06:28:48.000', '2019-07-16 22:55:12.000',\n",
       "       '2019-07-21 15:21:36.000', '2019-07-26 07:48:00.000',\n",
       "       '2019-07-31 00:14:24.000', '2019-08-04 16:40:48.000',\n",
       "       '2019-08-09 09:07:12.000'], dtype='<U23')"
      ]
     },
     "execution_count": 4,
     "metadata": {},
     "output_type": "execute_result"
    }
   ],
   "source": [
    "pl.all_transit_times.value"
   ]
  },
  {
   "cell_type": "markdown",
   "metadata": {},
   "source": [
    "We can also see just the observable transits. The times of mid-transit are given in UTC in the object ``obs_mid_times_utc``."
   ]
  },
  {
   "cell_type": "code",
   "execution_count": 5,
   "metadata": {},
   "outputs": [
    {
     "data": {
      "text/plain": [
       "array(['2019-07-21 15:21:36.000', '2019-08-04 16:40:48.000'], dtype='<U23')"
      ]
     },
     "execution_count": 5,
     "metadata": {},
     "output_type": "execute_result"
    }
   ],
   "source": [
    "pl.obs_mid_times_utc.value"
   ]
  },
  {
   "cell_type": "markdown",
   "metadata": {},
   "source": [
    "Assuming we passed in a transit duration, we can also determine the start time of each transit."
   ]
  },
  {
   "cell_type": "code",
   "execution_count": 6,
   "metadata": {},
   "outputs": [
    {
     "data": {
      "text/plain": [
       "array(['2019-07-21 14:17:06.000', '2019-08-04 15:36:18.000'], dtype='<U23')"
      ]
     },
     "execution_count": 6,
     "metadata": {},
     "output_type": "execute_result"
    }
   ],
   "source": [
    "(pl.obs_mid_times_utc - pl.duration/2).value"
   ]
  },
  {
   "cell_type": "markdown",
   "metadata": {},
   "source": [
    "Yep, those are all a little more than an hour before the mid transit times! \n",
    "\n",
    "Looks like we have two options for a transit to observe. Which should we consider? We can look at the airmass for each of these to find the best one. For each transit, there is a list of three airmasses: the airmass at the start, midpoint, and end of each transit."
   ]
  },
  {
   "cell_type": "code",
   "execution_count": 7,
   "metadata": {},
   "outputs": [
    {
     "data": {
      "text/plain": [
       "array([[1.02197285, 1.06824432, 1.18022099],\n",
       "       [1.19299415, 1.4140053 , 1.82524427]])"
      ]
     },
     "execution_count": 7,
     "metadata": {},
     "output_type": "execute_result"
    }
   ],
   "source": [
    "pl.obs_airmass"
   ]
  },
  {
   "cell_type": "markdown",
   "metadata": {},
   "source": [
    "In this case, it looks like the first one (July 21) is a better option!\n",
    "\n",
    "When do those happen when I'm at the telescope? I need to make sure I'm pointing the telescope at the right time and don't want to leave the time conversions to myself. We can use the ``make_local`` function to convert the times to another time. ``pl.timezone`` is the local time of the observatory, but we could also pass through any other time zone to convert to local time anywhere around the world."
   ]
  },
  {
   "cell_type": "code",
   "execution_count": 8,
   "metadata": {},
   "outputs": [
    {
     "data": {
      "text/plain": [
       "array(['2019-07-22 01:21:35', '2019-08-05 02:40:47'], dtype='<U32')"
      ]
     },
     "execution_count": 8,
     "metadata": {},
     "output_type": "execute_result"
    }
   ],
   "source": [
    "tessplan.make_local(pl.obs_mid_times_utc, pl.timezone)"
   ]
  },
  {
   "cell_type": "markdown",
   "metadata": {},
   "source": [
    "Those seem like they both would be at night, that's a plus. And we can then add and subtract half a transit duration to get the local start and end times for each transit."
   ]
  },
  {
   "cell_type": "code",
   "execution_count": 9,
   "metadata": {},
   "outputs": [
    {
     "name": "stdout",
     "output_type": "stream",
     "text": [
      "['2019-07-22 00:17:05' '2019-08-05 01:36:17']\n",
      "['2019-07-22 02:26:05' '2019-08-05 03:45:17']\n"
     ]
    }
   ],
   "source": [
    "print(tessplan.make_local(pl.obs_mid_times_utc-pl.duration/2, pl.timezone))\n",
    "print(tessplan.make_local(pl.obs_mid_times_utc+pl.duration/2, pl.timezone))"
   ]
  },
  {
   "cell_type": "markdown",
   "metadata": {},
   "source": [
    "We are trying to observe a transit, and there is some uncertainty in the time of transit, despite the fact the mid transit times are shown to 1 second precision above. We can print what the uncertainity is from the period error propgated forward to the current epoch for all transits, and only the visible ones, which are stored in two variables:"
   ]
  },
  {
   "cell_type": "code",
   "execution_count": 10,
   "metadata": {},
   "outputs": [
    {
     "name": "stdout",
     "output_type": "stream",
     "text": [
      "[112.32 113.76 115.2  116.64 118.08 119.52 120.96]\n",
      "[115.2  119.52]\n"
     ]
    }
   ],
   "source": [
    "print(pl.uncert_vals)\n",
    "print(pl.obs_mid_uncerts)"
   ]
  },
  {
   "cell_type": "markdown",
   "metadata": {},
   "source": [
    "Instead of passing in all of the transit parameters, we can also just pass through a TOI identifier number. This will scrape Exofop-TESS to find the planet paramaters and calculate the transits for this planet."
   ]
  },
  {
   "cell_type": "code",
   "execution_count": 11,
   "metadata": {},
   "outputs": [],
   "source": [
    "pl2 = tessplan.Planet(toi='175.01', startdate='2019-07-11', run_length=30)"
   ]
  },
  {
   "cell_type": "markdown",
   "metadata": {},
   "source": [
    "All the previous commands described here will work the same way:"
   ]
  },
  {
   "cell_type": "code",
   "execution_count": 12,
   "metadata": {},
   "outputs": [
    {
     "data": {
      "text/plain": [
       "array(['2019-07-13 04:52:32', '2019-07-16 21:27:01',\n",
       "       '2019-07-20 14:01:29', '2019-07-24 06:35:57',\n",
       "       '2019-07-27 23:10:25', '2019-07-31 15:44:53',\n",
       "       '2019-08-04 08:19:22', '2019-08-08 00:53:50'], dtype='<U32')"
      ]
     },
     "execution_count": 12,
     "metadata": {},
     "output_type": "execute_result"
    }
   ],
   "source": [
    "tessplan.make_local(pl2.all_transit_times, pl2.timezone)"
   ]
  },
  {
   "cell_type": "markdown",
   "metadata": {},
   "source": [
    "But we also get some extra information that was stored in Exofop-TESS. In this case, we can print the star's effective temperature, magnitude, and priority in the SG4 working group."
   ]
  },
  {
   "cell_type": "code",
   "execution_count": 13,
   "metadata": {},
   "outputs": [
    {
     "data": {
      "text/plain": [
       "(3469.0, 9.3929996, 2)"
      ]
     },
     "execution_count": 13,
     "metadata": {},
     "output_type": "execute_result"
    }
   ],
   "source": [
    "pl2.teff, pl2.tmag, pl2.sg4"
   ]
  },
  {
   "cell_type": "markdown",
   "metadata": {},
   "source": [
    "What if, instead, we knew we wanted to observe a TOI but didn't know which one? Then we could use ``all_observable``. In this case, we will find all transiting planet candidates for the 1 night starting on 1 July 2019. Again, this will scrape Exofop-TESS to find all the stellar and planet parameters."
   ]
  },
  {
   "cell_type": "code",
   "execution_count": 14,
   "metadata": {},
   "outputs": [
    {
     "name": "stderr",
     "output_type": "stream",
     "text": [
      "100%|██████████| 758/758 [00:32<00:00, 23.27it/s]\n"
     ]
    }
   ],
   "source": [
    "goodp = tessplan.all_observable('2019-07-01', 1, el_limit=30)"
   ]
  },
  {
   "cell_type": "markdown",
   "metadata": {},
   "source": [
    "Here, goodp is a list of ``Planet`` objects similar to the ones above in this tutorial. We can see how many there are."
   ]
  },
  {
   "cell_type": "code",
   "execution_count": 15,
   "metadata": {},
   "outputs": [
    {
     "data": {
      "text/plain": [
       "20"
      ]
     },
     "execution_count": 15,
     "metadata": {},
     "output_type": "execute_result"
    }
   ],
   "source": [
    "len(goodp)"
   ]
  },
  {
   "cell_type": "markdown",
   "metadata": {},
   "source": [
    "20 TOIs are transiting that night as observable from Siding Spring Observatory! (we could also have passed through any other observatory, or any other setting that ``Planet()`` accepts, as ``**kwargs`` into the ``all_observable`` function)."
   ]
  },
  {
   "cell_type": "markdown",
   "metadata": {},
   "source": [
    "We can see what the TIC IDs are for these stars."
   ]
  },
  {
   "cell_type": "code",
   "execution_count": 16,
   "metadata": {},
   "outputs": [
    {
     "data": {
      "text/plain": [
       "[290131778,\n",
       " 403224672,\n",
       " 280830734,\n",
       " 183985250,\n",
       " 316937670,\n",
       " 355637190,\n",
       " 389753172,\n",
       " 251852984,\n",
       " 144336525,\n",
       " 139285832,\n",
       " 224271611,\n",
       " 183593642,\n",
       " 144276942,\n",
       " 47425697,\n",
       " 441075486,\n",
       " 100014359,\n",
       " 229091748,\n",
       " 35516889,\n",
       " 5868998,\n",
       " 14614418]"
      ]
     },
     "execution_count": 16,
     "metadata": {},
     "output_type": "execute_result"
    }
   ],
   "source": [
    "[goodp[i].tic for i in range(len(goodp))]"
   ]
  },
  {
   "cell_type": "markdown",
   "metadata": {},
   "source": [
    "I know I don't want to observe some of these. I only care about the highest priority objects. I only want to observe objects with a TFOP Working Group 1b priority of 1 or 2. Therefore, I'll downselect to slice out the objects with the ``sg1b`` attribute set to smaller than 2.5:"
   ]
  },
  {
   "cell_type": "code",
   "execution_count": 17,
   "metadata": {},
   "outputs": [],
   "source": [
    "priority = [goodp[i].sg1b <= 2.5 for i in range(len(goodp))]\n",
    "mytargs = goodp[priority]"
   ]
  },
  {
   "cell_type": "markdown",
   "metadata": {},
   "source": [
    "Then we can print the list of TOIs that satisfy these criteria, as well as their magnitudes or anything else we might care about:"
   ]
  },
  {
   "cell_type": "code",
   "execution_count": 18,
   "metadata": {},
   "outputs": [
    {
     "name": "stdout",
     "output_type": "stream",
     "text": [
      "[('221.01', 11.78), ('361.01', 11.853), ('364.01', 10.431)]\n"
     ]
    }
   ],
   "source": [
    "print([(mytargs[i].toi, mytargs[i].tmag) for i in range(len(mytargs))])\n"
   ]
  },
  {
   "cell_type": "code",
   "execution_count": 19,
   "metadata": {},
   "outputs": [
    {
     "data": {
      "text/plain": [
       "4"
      ]
     },
     "execution_count": 19,
     "metadata": {},
     "output_type": "execute_result"
    }
   ],
   "source": [
    "mytargs[1].sg4"
   ]
  },
  {
   "cell_type": "markdown",
   "metadata": {},
   "source": [
    "That's it!"
   ]
  }
 ],
 "metadata": {
  "anaconda-cloud": {},
  "kernelspec": {
   "display_name": "Python [python3]",
   "language": "python",
   "name": "Python [python3]"
  },
  "language_info": {
   "codemirror_mode": {
    "name": "ipython",
    "version": 3
   },
   "file_extension": ".py",
   "mimetype": "text/x-python",
   "name": "python",
   "nbconvert_exporter": "python",
   "pygments_lexer": "ipython3",
   "version": "3.5.2"
  }
 },
 "nbformat": 4,
 "nbformat_minor": 2
}
